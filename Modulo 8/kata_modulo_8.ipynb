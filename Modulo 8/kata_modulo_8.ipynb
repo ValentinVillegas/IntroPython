{
 "cells": [
  {
   "cell_type": "markdown",
   "metadata": {},
   "source": [
    "# Ejercicio 1: Creación de diccionarios de Python\n",
    "### Crear y modificar un diccionario de Python"
   ]
  },
  {
   "cell_type": "code",
   "execution_count": 6,
   "metadata": {},
   "outputs": [
    {
     "name": "stdout",
     "output_type": "stream",
     "text": [
      "Nombre del planeta: Marte\n",
      "Cantidad de lunas: 2\n"
     ]
    }
   ],
   "source": [
    "planeta = {\n",
    "    'nombre':'Marte',\n",
    "    'lunas':2\n",
    "}\n",
    "\n",
    "print(f'Nombre del planeta: {planeta[\"nombre\"]}')\n",
    "print(f'Cantidad de lunas: {planeta[\"lunas\"]}')"
   ]
  },
  {
   "cell_type": "markdown",
   "metadata": {},
   "source": [
    "### Agrega un nuevo valor con una clave de 'circunferencia (km)'. Este nuevo valor debería almacenar un diccionario con las dos circunferencias del planeta:"
   ]
  },
  {
   "cell_type": "code",
   "execution_count": 8,
   "metadata": {},
   "outputs": [
    {
     "name": "stdout",
     "output_type": "stream",
     "text": [
      "Planeta: Marte\n",
      "Circunferencia polar: 6752\n"
     ]
    }
   ],
   "source": [
    "planeta[\"circunferencia\"] = {\n",
    "    'polar': 6752,\n",
    "    'ecuatorial':6792\n",
    "}\n",
    "\n",
    "print(f'Planeta: {planeta[\"nombre\"]}')\n",
    "print(f'Circunferencia polar: {planeta[\"circunferencia\"][\"polar\"]} km.')\n"
   ]
  },
  {
   "cell_type": "markdown",
   "metadata": {},
   "source": [
    "# Ejercicio 2: Programación dinámica con diccionarios\n",
    "### En este escenario, calcularás tanto el número total de lunas en el sistema solar como el número promedio de lunas que tiene un planeta."
   ]
  },
  {
   "cell_type": "code",
   "execution_count": 14,
   "metadata": {},
   "outputs": [
    {
     "name": "stdout",
     "output_type": "stream",
     "text": [
      "La cantidad de planetas es: 12 y el promedio de lunas por planeta es de: 17.833333333333332\n"
     ]
    }
   ],
   "source": [
    "lunas_planetas = {\n",
    "    'mercury': 0,\n",
    "    'venus': 0,\n",
    "    'earth': 1,\n",
    "    'mars': 2,\n",
    "    'jupiter': 79,\n",
    "    'saturn': 82,\n",
    "    'uranus': 27,\n",
    "    'neptune': 14,\n",
    "    'pluto': 5,\n",
    "    'haumea': 2,\n",
    "    'makemake': 1,\n",
    "    'eris': 1\n",
    "}\n",
    "\n",
    "cantidad_lunas = lunas_planetas.values()\n",
    "cantidad_planetas = len(lunas_planetas.keys())\n",
    "\n",
    "total_lunas = 0\n",
    "\n",
    "for luna in cantidad_lunas:\n",
    "    total_lunas += luna\n",
    "\n",
    "print(f'La cantidad de planetas es: {cantidad_planetas} y el promedio de lunas por planeta es de: {total_lunas/cantidad_planetas}')\n"
   ]
  },
  {
   "cell_type": "code",
   "execution_count": null,
   "metadata": {},
   "outputs": [],
   "source": []
  }
 ],
 "metadata": {
  "interpreter": {
   "hash": "25bf1dab56f13e21d80318cd5e789e076f92a14fa9924f370a2a818164c863f4"
  },
  "kernelspec": {
   "display_name": "Python 3.9.6 64-bit",
   "language": "python",
   "name": "python3"
  },
  "language_info": {
   "codemirror_mode": {
    "name": "ipython",
    "version": 3
   },
   "file_extension": ".py",
   "mimetype": "text/x-python",
   "name": "python",
   "nbconvert_exporter": "python",
   "pygments_lexer": "ipython3",
   "version": "3.9.6"
  },
  "orig_nbformat": 4
 },
 "nbformat": 4,
 "nbformat_minor": 2
}
