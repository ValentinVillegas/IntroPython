{
 "cells": [
  {
   "cell_type": "markdown",
   "metadata": {},
   "source": [
    "# Escribir declaraciones if, else, y elif\n",
    "\n",
    "Problema no. 1\n",
    "\n",
    "* Añadir el código necesario para crear una variable que guarde la velocidad del asteroide.\n",
    "* Escribe una expresión de prueba para calcular si necesita una advertencia.\n",
    "* Agregue las instrucciones que se ejecutarán si la expresión de prueba es true o false."
   ]
  },
  {
   "cell_type": "code",
   "execution_count": 6,
   "metadata": {},
   "outputs": [
    {
     "name": "stdout",
     "output_type": "stream",
     "text": [
      "¡Todo se encuentra bajo control!. Sigue con tu día\n"
     ]
    }
   ],
   "source": [
    "velocidadAsteroide = float(input(\"Ingrese la velocidad a la que se dirige el asteroride: \"))\n",
    "\n",
    "if velocidadAsteroide > 25:\n",
    "    print('¡Alerta! ¡Un asteroide se acerca a velocidades peligrosas!')\n",
    "else:\n",
    "    print('¡Todo se encuentra bajo control!. Sigue con tu día')"
   ]
  },
  {
   "cell_type": "markdown",
   "metadata": {},
   "source": [
    "Problema no. 2\n",
    "\n",
    "* Añadir el código necesario para crear una variable que guarde la velocidad del asteroide.\n",
    "* Escribe una expresión de prueba para calcular si necesita una advertencia.\n",
    "* Agregue las instrucciones que se ejecutarán si la expresión de prueba es true o false."
   ]
  },
  {
   "cell_type": "code",
   "execution_count": 7,
   "metadata": {},
   "outputs": [
    {
     "name": "stdout",
     "output_type": "stream",
     "text": [
      "Mira hacia arriba! ¡Hay una luz mágica en el cielo!\n"
     ]
    }
   ],
   "source": [
    "velocidadAsteroide = float(input(\"Ingrese la velocidad a la que se dirige el asteroride: \"))\n",
    "\n",
    "if velocidadAsteroide >= 20:\n",
    "    print('Mira hacia arriba! ¡Hay una luz mágica en el cielo!')\n",
    "else:\n",
    "    print('¡Nada que ver aquí!')"
   ]
  },
  {
   "cell_type": "markdown",
   "metadata": {},
   "source": [
    "Problema no. 3\n",
    "\n",
    "* Agrega el código para crear nuevas variables para la velocidad y el tamaño del asteroide\n",
    "* Para probar el código, prueba con varias velocidades y tamaños\n",
    "* Escribe varias expresiones de prueba o combinaciones de expresiones de prueba para determinar qué mensaje se debe enviar a Tierra."
   ]
  },
  {
   "cell_type": "code",
   "execution_count": 8,
   "metadata": {},
   "outputs": [
    {
     "name": "stdout",
     "output_type": "stream",
     "text": [
      "¡Alerta, Un asteroide muy peligroso viene hacia la Tierra!\n"
     ]
    }
   ],
   "source": [
    "velocidadAsteroide = float(input(\"Ingrese la velocidad a la que se dirige el asteroride: \"))\n",
    "tamanioAsteroide = float(input(\"Ingrese el tamaño del asteroride: \"))\n",
    "\n",
    "if velocidadAsteroide > 25 and tamanioAsteroide > 25:\n",
    "    print('¡Alerta, Un asteroide muy peligroso viene hacia la Tierra!')\n",
    "elif velocidadAsteroide >= 20:\n",
    "    print('Mira hacia arriba! ¡Hay una luz mágica en el cielo!')\n",
    "elif tamanioAsteroide < 25:\n",
    "    print('Nada que ver aquí :)')\n",
    "else:\n",
    "    print('Nada que ver aquí :)')"
   ]
  }
 ],
 "metadata": {
  "interpreter": {
   "hash": "25bf1dab56f13e21d80318cd5e789e076f92a14fa9924f370a2a818164c863f4"
  },
  "kernelspec": {
   "display_name": "Python 3.9.6 64-bit",
   "language": "python",
   "name": "python3"
  },
  "language_info": {
   "codemirror_mode": {
    "name": "ipython",
    "version": 3
   },
   "file_extension": ".py",
   "mimetype": "text/x-python",
   "name": "python",
   "nbconvert_exporter": "python",
   "pygments_lexer": "ipython3",
   "version": "3.9.6"
  },
  "orig_nbformat": 4
 },
 "nbformat": 4,
 "nbformat_minor": 2
}
