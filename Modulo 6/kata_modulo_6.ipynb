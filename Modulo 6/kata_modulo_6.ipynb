{
 "cells": [
  {
   "cell_type": "markdown",
   "metadata": {},
   "source": [
    "# Ejercicio1: Crear y usar listas de Python\n",
    "\n",
    "### En primer lugar, crea una variable denominada planets. Agrega los ocho planetas (sin Plutón) a la lista. A continuación, muestra el número de planetas."
   ]
  },
  {
   "cell_type": "code",
   "execution_count": null,
   "metadata": {},
   "outputs": [],
   "source": [
    "planetas = ['Mercurio', 'Venus', 'Tierra', 'Marte', 'Jupiter', 'Saturno', 'Urano', 'Neptuno']\n",
    "print(f\"La lista de planetas contiene {len(planetas)} planetas\")\n",
    "planetas.append(\"Pluton\")\n",
    "print(f\"El último planeta de la lista es: {planetas[-1]}\")\n",
    "print(f\"La lista de planetas contiene {len(planetas)} planetas\")"
   ]
  },
  {
   "cell_type": "markdown",
   "metadata": {},
   "source": [
    "# Ejercicio 2: Trabajando con datos de una lista\n",
    "\n",
    "* Solicita al usuario el nombre de un planeta \n",
    "* Encuentra el planeta dentro de la lista\n",
    "* Mostrar planetas más cercanos al sol que el que el usuario ingres�\n",
    "* Mostrar planetas más alejados del sol que el que el usuario ingres�\n"
   ]
  },
  {
   "cell_type": "code",
   "execution_count": null,
   "metadata": {},
   "outputs": [],
   "source": [
    "busqueda = input(\"Ingrese el nombre de un planeta:\")\n",
    "\n",
    "pos_planeta = planetas.index(busqueda.title())\n",
    "\n",
    "if pos_planeta <0:\n",
    "    print(\"El planeta no se encuentra en la lista.\")\n",
    "else:\n",
    "    print(f\"Los planetas más cercanos al sol son: {planetas[0:pos_planeta]}\")\n",
    "    print(f\"Los planetas más alejados al sol son: {planetas[pos_planeta+1:]}\")\n",
    "\n"
   ]
  },
  {
   "cell_type": "markdown",
   "metadata": {},
   "source": []
  }
 ],
 "metadata": {
  "interpreter": {
   "hash": "2031f9519a7c89e6e764d298a7cc2bf310f53fcc368717afac921416e61cc7f7"
  },
  "kernelspec": {
   "display_name": "Python 3.9.6 64-bit",
   "language": "python",
   "name": "python3"
  },
  "language_info": {
   "codemirror_mode": {
    "name": "ipython",
    "version": 3
   },
   "file_extension": ".py",
   "mimetype": "text/x-python",
   "name": "python",
   "nbconvert_exporter": "python",
   "pygments_lexer": "ipython3",
   "version": "3.9.6"
  },
  "orig_nbformat": 4
 },
 "nbformat": 4,
 "nbformat_minor": 2
}
