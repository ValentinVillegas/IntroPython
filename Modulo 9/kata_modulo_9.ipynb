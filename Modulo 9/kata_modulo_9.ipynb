{
 "cells": [
  {
   "cell_type": "markdown",
   "metadata": {},
   "source": [
    "# Ejercicio 1: Trabajar con argumentos en funciones\n",
    "### Comienza por crear una función que necesite tres lecturas de combustible y devuelva un informe:"
   ]
  },
  {
   "cell_type": "code",
   "execution_count": 1,
   "metadata": {},
   "outputs": [],
   "source": [
    "def informe_combustible(tanque1, tanque2, tanque3):\n",
    "    return f\"\"\"\n",
    "    La lectura del tanque uno es: {tanque1}\n",
    "    La lectura del tanque dos es: {tanque2}\n",
    "    La lectura del tanque tres es: {tanque3}\n",
    "    \"\"\""
   ]
  },
  {
   "cell_type": "markdown",
   "metadata": {},
   "source": [
    "### Ahora que hemos definido la función de informes, vamos a comprobarlo. Para esta misión, los tanques no están llenos:"
   ]
  },
  {
   "cell_type": "code",
   "execution_count": 2,
   "metadata": {},
   "outputs": [
    {
     "name": "stdout",
     "output_type": "stream",
     "text": [
      "\n",
      "    La lectura del tanque uno es: 40\n",
      "    La lectura del tanque dos es: 57\n",
      "    La lectura del tanque tres es: 65\n",
      "    \n"
     ]
    }
   ],
   "source": [
    "print(informe_combustible(40,57,65))"
   ]
  },
  {
   "cell_type": "markdown",
   "metadata": {},
   "source": [
    "### En lugar de simplemente crear el informe, la función también está calculando el promedio. Mejora la legibilidad extrayendo el cálculo promedio de la función en una nueva función para que el promedio se pueda hacer de forma independiente:"
   ]
  },
  {
   "cell_type": "code",
   "execution_count": 3,
   "metadata": {},
   "outputs": [],
   "source": [
    "def promedio_combustible(tanques):\n",
    "    return sum(tanques) / len(tanques)"
   ]
  },
  {
   "cell_type": "markdown",
   "metadata": {},
   "source": [
    "### Ahora actualiza la función de informes para llamar a la nueva función del promedio:"
   ]
  },
  {
   "cell_type": "code",
   "execution_count": 4,
   "metadata": {},
   "outputs": [
    {
     "name": "stdout",
     "output_type": "stream",
     "text": [
      "\n",
      "    La lectura del tanque uno es: 40\n",
      "    La lectura del tanque dos es: 57\n",
      "    La lectura del tanque tres es: 65\n",
      "    El combustible promedio es de: 54.0\n",
      "    \n"
     ]
    }
   ],
   "source": [
    "def informe_combustible(tanque1, tanque2, tanque3):\n",
    "    return f\"\"\"\n",
    "    La lectura del tanque uno es: {tanque1}\n",
    "    La lectura del tanque dos es: {tanque2}\n",
    "    La lectura del tanque tres es: {tanque3}\n",
    "    El combustible promedio es de: {promedio_combustible([tanque1,tanque2,tanque3])}\n",
    "    \"\"\"\n",
    "\n",
    "print(informe_combustible(40, 57, 65))"
   ]
  },
  {
   "cell_type": "markdown",
   "metadata": {},
   "source": [
    "# Ejercicio 2: Trabajo con argumentos de palabra clave\n",
    "### Construirás un informe de cohete que requiere varias piezas de información, como el tiempo hasta el destino, el combustible a la izquierda y el nombre del destino. Comienza por crear una función que creará un informe preciso de la misión:"
   ]
  },
  {
   "cell_type": "markdown",
   "metadata": {},
   "source": []
  },
  {
   "cell_type": "code",
   "execution_count": 5,
   "metadata": {},
   "outputs": [
    {
     "name": "stdout",
     "output_type": "stream",
     "text": [
      "Hora programada del despegue: 16/02/2022 10:00\n",
      "Tiempo estimado de vuelo: 18 hrs.\n",
      "Con dirección hacia: Luna\n",
      "Nivel interno de combustible: 90\n",
      "Nivel de combustible de reserva: 95\n",
      "\n"
     ]
    }
   ],
   "source": [
    "def informe_mision(hora_inicio, tiempo_vuelo, destino, tanque_externo, tanque_interno):\n",
    "    return f\"\"\"Hora programada del despegue: {hora_inicio}\n",
    "Tiempo estimado de vuelo: {tiempo_vuelo}\n",
    "Con dirección hacia: {destino}\n",
    "Nivel interno de combustible: {tanque_interno}\n",
    "Nivel de combustible de reserva: {tanque_externo}\n",
    "\"\"\"\n",
    "\n",
    "print(informe_mision(\"16/02/2022 10:00\", \"18 hrs.\", \"Luna\", 95, 90))"
   ]
  },
  {
   "cell_type": "code",
   "execution_count": 6,
   "metadata": {},
   "outputs": [
    {
     "name": "stdout",
     "output_type": "stream",
     "text": [
      "Con dirección hacia: Luna\n",
      "Tiempo estimado de vuelo: 90 minutos\n",
      "Niveles de combustible: 380\n",
      "tanque principal: 200\n",
      "tanque reserva: 180\n",
      "\n"
     ]
    }
   ],
   "source": [
    "def informe_mision(destino, *tiempo_vuelo, **combustible):\n",
    "    informe = f\"\"\"Con dirección hacia: {destino}\n",
    "Tiempo estimado de vuelo: {sum(tiempo_vuelo)} minutos\n",
    "Niveles de combustible: {sum(combustible.values())}\n",
    "\"\"\"\n",
    "    \n",
    "    for tanque, cantidad in combustible.items():\n",
    "        informe += f'tanque {tanque}: {cantidad}\\n'\n",
    "\n",
    "    return informe\n",
    "\n",
    "\n",
    "print(informe_mision(\"Luna\", 15, 20, 55, principal=200, reserva=180))\n"
   ]
  }
 ],
 "metadata": {
  "interpreter": {
   "hash": "25bf1dab56f13e21d80318cd5e789e076f92a14fa9924f370a2a818164c863f4"
  },
  "kernelspec": {
   "display_name": "Python 3.9.6 64-bit",
   "language": "python",
   "name": "python3"
  },
  "language_info": {
   "codemirror_mode": {
    "name": "ipython",
    "version": 3
   },
   "file_extension": ".py",
   "mimetype": "text/x-python",
   "name": "python",
   "nbconvert_exporter": "python",
   "pygments_lexer": "ipython3",
   "version": "3.9.6"
  },
  "orig_nbformat": 4
 },
 "nbformat": 4,
 "nbformat_minor": 2
}
