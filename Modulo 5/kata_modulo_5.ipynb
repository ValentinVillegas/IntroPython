{
 "cells": [
  {
   "cell_type": "markdown",
   "metadata": {},
   "source": [
    "# Ejercicio1 - Utilizar operadores aritméticos\n",
    "\n",
    "### Calcular la distancia entre dos planetas"
   ]
  },
  {
   "cell_type": "code",
   "execution_count": 2,
   "metadata": {},
   "outputs": [
    {
     "name": "stdout",
     "output_type": "stream",
     "text": [
      "la distancia en kilometros entre el planeta 1 el planeta 2 es de: 628949330.0 km.\n",
      "la distancia en millas entre el planeta 1 el planeta 2 es de: 390577533.93 millas\n"
     ]
    }
   ],
   "source": [
    "planeta_uno = float(input(\"Ingrese la distancia en km entre el primer planeta y el sol: \"))\n",
    "planeta_dos = float(input(\"Ingrese la distancia en km entre el segundo planeta y el sol: \"))\n",
    "\n",
    "distancia_km = abs(planeta_uno - planeta_dos)\n",
    "distamcia_mi = distancia_km*0.621\n",
    "\n",
    "print(f\"la distancia en kilometros entre el planeta 1 y el planeta 2 es de: {distancia_km} km.\")\n",
    "print(f\"la distancia en millas entre el planeta 1 y el planeta 2 es de: {distamcia_mi} millas\")\n"
   ]
  }
 ],
 "metadata": {
  "interpreter": {
   "hash": "2031f9519a7c89e6e764d298a7cc2bf310f53fcc368717afac921416e61cc7f7"
  },
  "kernelspec": {
   "display_name": "Python 3.9.6 64-bit",
   "language": "python",
   "name": "python3"
  },
  "language_info": {
   "codemirror_mode": {
    "name": "ipython",
    "version": 3
   },
   "file_extension": ".py",
   "mimetype": "text/x-python",
   "name": "python",
   "nbconvert_exporter": "python",
   "pygments_lexer": "ipython3",
   "version": "3.9.6"
  },
  "orig_nbformat": 4
 },
 "nbformat": 4,
 "nbformat_minor": 2
}
