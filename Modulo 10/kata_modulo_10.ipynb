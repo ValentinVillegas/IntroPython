{
 "cells": [
  {
   "cell_type": "markdown",
   "metadata": {},
   "source": [
    "## Leer un archivo manejando excepciones"
   ]
  },
  {
   "cell_type": "code",
   "execution_count": 3,
   "metadata": {},
   "outputs": [
    {
     "name": "stdout",
     "output_type": "stream",
     "text": [
      "Ocurrió un error. El archivo no fue encontrado.\n"
     ]
    }
   ],
   "source": [
    "import os \n",
    "\n",
    "ruta = os.getcwd()\n",
    "\n",
    "def abrir_archivo(ruta):\n",
    "    try:\n",
    "        datos = open(ruta)\n",
    "    except FileNotFoundError:\n",
    "        print(\"Ocurrió un error. El archivo no fue encontrado.\")\n",
    "    except IsADirectoryError:\n",
    "        print(\"Ocurrió un error. El archivo se encontró pero no se puede leer.\")\n",
    "    except (BlockingIOError, TimeoutError):\n",
    "        print(\"Tiempo de espera excedido. Intente de nuevo.\")\n",
    "\n",
    "abrir_archivo(ruta + '\\config.txt')"
   ]
  },
  {
   "cell_type": "markdown",
   "metadata": {},
   "source": [
    "## Generación de excepciones\n",
    "### Crear una función que, con base al número de astronautas, pueda calcular la cantidad de agua quedará después de un día o más:"
   ]
  },
  {
   "cell_type": "code",
   "execution_count": 4,
   "metadata": {},
   "outputs": [
    {
     "name": "stdout",
     "output_type": "stream",
     "text": [
      "El consumo de agua de los 5 astronautas para los 2 días resstantes es insuficiente!\n"
     ]
    }
   ],
   "source": [
    "def agua_restante(astronautas, litros_restantes, dias_restantes):\n",
    "    uso_diario = astronautas*11\n",
    "    consumo_total = uso_diario * dias_restantes\n",
    "    total_agua_restante = litros_restantes - consumo_total\n",
    "\n",
    "    if total_agua_restante < 0 :\n",
    "        raise RuntimeError(f'El consumo de agua de los {astronautas} astronautas para los {dias_restantes} días resstantes es insuficiente!')\n",
    "    \n",
    "    return f'El agua que se consumirá en los {dias_restantes} dias restantes es de {consumo_total}'\n",
    "\n",
    "\n",
    "try:\n",
    "    agua_restante(5,100,2)\n",
    "except RuntimeError as err:\n",
    "    print(err)"
   ]
  },
  {
   "cell_type": "markdown",
   "metadata": {},
   "source": []
  }
 ],
 "metadata": {
  "interpreter": {
   "hash": "2031f9519a7c89e6e764d298a7cc2bf310f53fcc368717afac921416e61cc7f7"
  },
  "kernelspec": {
   "display_name": "Python 3.9.6 64-bit",
   "language": "python",
   "name": "python3"
  },
  "language_info": {
   "codemirror_mode": {
    "name": "ipython",
    "version": 3
   },
   "file_extension": ".py",
   "mimetype": "text/x-python",
   "name": "python",
   "nbconvert_exporter": "python",
   "pygments_lexer": "ipython3",
   "version": "3.9.6"
  },
  "orig_nbformat": 4
 },
 "nbformat": 4,
 "nbformat_minor": 2
}
